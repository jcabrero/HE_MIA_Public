{
 "cells": [
  {
   "cell_type": "markdown",
   "id": "c673cdb4-4613-4bdb-acbe-a1ce7494a4af",
   "metadata": {},
   "source": [
    "# Using HELR for Private Logistic Regression Inference with Homomorphic Encryption\n",
    "\n",
    "The code below shows a use case of the HELR library for making private inference with a Neural Network.\n",
    "\n",
    "In this case, we are using the LogisticRegression notebook to create the logistic regression and we extract eht"
   ]
  },
  {
   "cell_type": "code",
   "execution_count": 1,
   "id": "11a3ee5a-b2e5-4dc3-8dbf-130d887ec09c",
   "metadata": {},
   "outputs": [
    {
     "name": "stderr",
     "output_type": "stream",
     "text": [
      "2022-02-03 16:40:49.875597: W tensorflow/stream_executor/platform/default/dso_loader.cc:64] Could not load dynamic library 'libcudart.so.11.0'; dlerror: libcudart.so.11.0: cannot open shared object file: No such file or directory\n",
      "2022-02-03 16:40:49.875637: I tensorflow/stream_executor/cuda/cudart_stub.cc:29] Ignore above cudart dlerror if you do not have a GPU set up on your machine.\n"
     ]
    }
   ],
   "source": [
    "import numpy as np\n",
    "import tensorflow as tf\n",
    "from utils import * # My module"
   ]
  },
  {
   "cell_type": "code",
   "execution_count": 2,
   "id": "d4d166d3-513a-47cf-afe3-d45c843f5b80",
   "metadata": {},
   "outputs": [
    {
     "name": "stdout",
     "output_type": "stream",
     "text": [
      "Processing /home/jocabrer/mnt/src/dist/HELR-0.1.0-cp39-cp39-linux_x86_64.whl\n",
      "Installing collected packages: HELR\n",
      "  Attempting uninstall: HELR\n",
      "    Found existing installation: HELR 0.1.0\n",
      "    Uninstalling HELR-0.1.0:\n",
      "      Successfully uninstalled HELR-0.1.0\n",
      "Successfully installed HELR-0.1.0\n"
     ]
    }
   ],
   "source": [
    "!pip install ../src/dist/*.whl --force-reinstall\n",
    "from HELR import HELR"
   ]
  },
  {
   "cell_type": "markdown",
   "id": "7a8f673c-5372-484e-a61d-936bcc9b7474",
   "metadata": {
    "tags": []
   },
   "source": [
    "### Loading the dataset & model"
   ]
  },
  {
   "cell_type": "code",
   "execution_count": 3,
   "id": "5ec8d9a0-dc7c-46a1-8857-48a67a44ba48",
   "metadata": {},
   "outputs": [],
   "source": [
    "x_train, y_train, x_val, y_val, x_test, y_test = load_dataset(\"./dataset/\")"
   ]
  },
  {
   "cell_type": "code",
   "execution_count": 4,
   "id": "deba285d-b6a2-4c8c-96c3-999fb0520b75",
   "metadata": {},
   "outputs": [
    {
     "name": "stderr",
     "output_type": "stream",
     "text": [
      "2022-02-03 16:40:57.763571: W tensorflow/stream_executor/platform/default/dso_loader.cc:64] Could not load dynamic library 'libcuda.so.1'; dlerror: libcuda.so.1: cannot open shared object file: No such file or directory\n",
      "2022-02-03 16:40:57.763611: W tensorflow/stream_executor/cuda/cuda_driver.cc:269] failed call to cuInit: UNKNOWN ERROR (303)\n",
      "2022-02-03 16:40:57.763635: I tensorflow/stream_executor/cuda/cuda_diagnostics.cc:156] kernel driver does not appear to be running on this host (he_mia): /proc/driver/nvidia/version does not exist\n",
      "2022-02-03 16:40:57.763965: I tensorflow/core/platform/cpu_feature_guard.cc:151] This TensorFlow binary is optimized with oneAPI Deep Neural Network Library (oneDNN) to use the following CPU instructions in performance-critical operations:  AVX2 FMA\n",
      "To enable them in other operations, rebuild TensorFlow with the appropriate compiler flags.\n"
     ]
    }
   ],
   "source": [
    "model = load_model(\"model/lr.h5\")"
   ]
  },
  {
   "cell_type": "markdown",
   "id": "ce152a10-13aa-4009-a77c-88c8151a11bc",
   "metadata": {
    "tags": []
   },
   "source": [
    "### Selecting a sample image"
   ]
  },
  {
   "cell_type": "code",
   "execution_count": 5,
   "id": "6e83b2d4-b5ea-4598-a000-eb4ab9dffc3e",
   "metadata": {},
   "outputs": [],
   "source": [
    "sample_img = x_train[1,:,:,0]"
   ]
  },
  {
   "cell_type": "code",
   "execution_count": 6,
   "id": "d30e2839-3a75-483e-a2de-22903d1c360d",
   "metadata": {},
   "outputs": [
    {
     "data": {
      "text/plain": [
       "(128, 128)"
      ]
     },
     "execution_count": 6,
     "metadata": {},
     "output_type": "execute_result"
    }
   ],
   "source": [
    "sample_img.shape"
   ]
  },
  {
   "cell_type": "markdown",
   "id": "7a15f384-42b7-4a87-977e-813a3aad2e60",
   "metadata": {},
   "source": [
    "### Using HELR to get the model params from a Tensorflow model\n",
    "Note that: The `get_lr_params` is meant to work with Tensorflow"
   ]
  },
  {
   "cell_type": "code",
   "execution_count": 7,
   "id": "dd91420f-d76b-4145-9c9e-ca2d162dee9f",
   "metadata": {},
   "outputs": [],
   "source": [
    "w, b = HELR.get_lr_params(model)"
   ]
  },
  {
   "cell_type": "markdown",
   "id": "cceb4641-e269-445c-a2e6-639ab4ded3f9",
   "metadata": {},
   "source": [
    "### Define the HELR object\n",
    "\n",
    "It internally caches the weights (`w`) and bias values (`b`)"
   ]
  },
  {
   "cell_type": "code",
   "execution_count": 8,
   "id": "e3af14d1-3d01-480d-9b79-240b79dfb6e7",
   "metadata": {},
   "outputs": [],
   "source": [
    "helr = HELR(w, b)"
   ]
  },
  {
   "cell_type": "markdown",
   "id": "5f18f7ac-541d-46e9-849a-f7314eb1f97b",
   "metadata": {},
   "source": [
    "### Executing the private inference\n",
    "\n",
    "The call to the predict function with a sample image generates a private prediction so that:\n",
    "- It generates the keys for the processing.\n",
    "- It encrypts the image to a ciphertext.\n",
    "- It encodes the weights and bias in a plaintext.\n",
    "- It uses those to perform the private linear phase of the neural network.\n",
    "- It decrypts the values.\n",
    "- It performs a cleartext sigmoid function.\n",
    "- Returns the result.\n"
   ]
  },
  {
   "cell_type": "code",
   "execution_count": 9,
   "id": "e825912d-4d7c-4754-bb19-07e46f9f5ceb",
   "metadata": {},
   "outputs": [
    {
     "data": {
      "text/plain": [
       "6.617451721677384e-16"
      ]
     },
     "execution_count": 9,
     "metadata": {},
     "output_type": "execute_result"
    }
   ],
   "source": [
    "helr.predict(sample_img)"
   ]
  },
  {
   "cell_type": "markdown",
   "id": "dc17f75e-bf41-4ac2-b8be-f855e75a5b52",
   "metadata": {},
   "source": [
    "### Skipping the key generation\n",
    "\n",
    "The key generation procedure takes most of the time and its randomness is in general of minimal effect to the computation.\n",
    "\n",
    "For the sake of research and testing, the key generation can be omitted setting `reuse_keys=True`. \n",
    "\n",
    "Note that this should not be done on a real deployment."
   ]
  },
  {
   "cell_type": "code",
   "execution_count": 10,
   "id": "f7d8c1c5-5185-4079-9835-db2f826866e9",
   "metadata": {},
   "outputs": [
    {
     "data": {
      "text/plain": [
       "6.617469004505134e-16"
      ]
     },
     "execution_count": 10,
     "metadata": {},
     "output_type": "execute_result"
    }
   ],
   "source": [
    "helr.predict(sample_img, reuse_keys=True)"
   ]
  },
  {
   "cell_type": "code",
   "execution_count": 11,
   "id": "93e3f322-829c-44df-813f-0bd5d082efe2",
   "metadata": {},
   "outputs": [
    {
     "name": "stdout",
     "output_type": "stream",
     "text": [
      "CPU times: user 3.14 s, sys: 114 ms, total: 3.26 s\n",
      "Wall time: 3.25 s\n",
      "CPU times: user 600 ms, sys: 29.8 ms, total: 630 ms\n",
      "Wall time: 631 ms\n"
     ]
    },
    {
     "data": {
      "text/plain": [
       "6.617015791062156e-16"
      ]
     },
     "execution_count": 11,
     "metadata": {},
     "output_type": "execute_result"
    }
   ],
   "source": [
    "%time helr.predict(sample_img, reuse_keys=False)\n",
    "%time helr.predict(sample_img, reuse_keys=True)"
   ]
  }
 ],
 "metadata": {
  "kernelspec": {
   "display_name": "Python 3 (ipykernel)",
   "language": "python",
   "name": "python3"
  },
  "language_info": {
   "codemirror_mode": {
    "name": "ipython",
    "version": 3
   },
   "file_extension": ".py",
   "mimetype": "text/x-python",
   "name": "python",
   "nbconvert_exporter": "python",
   "pygments_lexer": "ipython3",
   "version": "3.9.7"
  }
 },
 "nbformat": 4,
 "nbformat_minor": 5
}
